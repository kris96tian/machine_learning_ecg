{
 "cells": [
  {
   "cell_type": "markdown",
   "metadata": {},
   "source": [
    "IMPORTS:"
   ]
  },
  {
   "cell_type": "code",
   "execution_count": 1,
   "metadata": {
    "tags": []
   },
   "outputs": [],
   "source": [
    "import numpy as np\n",
    "import os\n",
    "import torch\n",
    "import torch.nn as nn\n",
    "import torch.optim as optim\n",
    "from sklearn.model_selection import train_test_split\n",
    "from torch.utils.data import Dataset, DataLoader, TensorDataset\n",
    "import matplotlib.pyplot as plt\n",
    "from scipy.signal import detrend\n",
    "import pandas as pd\n",
    "from torch.utils.data import random_split\n",
    "from sklearn.preprocessing import MinMaxScaler"
   ]
  },
  {
   "cell_type": "markdown",
   "metadata": {},
   "source": [
    "MY DATASET.CLASS:"
   ]
  },
  {
   "cell_type": "code",
   "execution_count": 2,
   "metadata": {
    "tags": []
   },
   "outputs": [],
   "source": [
    "class ECGData(Dataset):\n",
    "    def __init__(self):\n",
    "        rwma_labels = np.loadtxt(\n",
    "            \"/home/ngsci/datasets/silent-cchs-ecg/csv/rwma-outcomes.csv\",\n",
    "            delimiter=\",\",\n",
    "            dtype=np.float32,\n",
    "            skiprows=1,\n",
    "        )\n",
    "        npy_filepath = \"/home/ngsci/datasets/silent-cchs-ecg/npy\"\n",
    "        dir_list = os.listdir(npy_filepath)\n",
    "        npy_arrays = []\n",
    "        for each in dir_list:\n",
    "            file = f\"{npy_filepath}/{each}\"\n",
    "            npy_arrays.append(np.load(file))\n",
    "        stacked = np.stack(npy_arrays, axis=1)\n",
    "        self.X = torch.from_numpy(stacked)\n",
    "        self.y = torch.from_numpy(rwma_labels[:, 1:])\n",
    "\n",
    "    def __len__(self):\n",
    "        return self.X.shape[0]\n",
    "\n",
    "    def __getitem__(self, idx):\n",
    "        return (self.X[idx, :, :, :], self.y[idx])\n"
   ]
  },
  {
   "cell_type": "markdown",
   "metadata": {},
   "source": [
    "DATA SPLIT / PREPROCESS / PREPARE / INITIATE..."
   ]
  },
  {
   "cell_type": "code",
   "execution_count": 3,
   "metadata": {
    "tags": []
   },
   "outputs": [],
   "source": [
    "\n",
    "data = ECGData() #instanz of above Custom Class\n",
    "\n",
    "###  DATA SPLIT FUNCKTION and INIT.\n",
    "### \n",
    "\n",
    "def split_data(data):\n",
    "    indexRange = torch.arange(0, len(data))\n",
    "    train_size = int(0.8 * len(data))\n",
    "    train_split, test_split = random_split(\n",
    "        indexRange, [train_size, len(data) - train_size]\n",
    "    )\n",
    "    X_train = data[train_split][0].squeeze(dim=2)\n",
    "    X_test = data[test_split][0].squeeze(dim=2)\n",
    "    y_train = data[train_split][1]\n",
    "    y_test = data[test_split][1]\n",
    "    return X_train, X_test, y_train, y_test\n",
    "\n",
    "\n",
    "X_train, X_test, y_train, y_test = split_data(data)\n",
    "\n",
    "\n",
    "## Data NORMALIZATION\n",
    "##\n",
    "def preprocess_data(X_train, X_test):\n",
    "    # Min-max scaling\n",
    "    scaler = MinMaxScaler()\n",
    "    X_train_scaled = scaler.fit_transform(\n",
    "        X_train.reshape(-1, X_train.shape[-1])\n",
    "    ).reshape(X_train.shape)\n",
    "    X_test_scaled = scaler.transform(X_test.reshape(-1, X_test.shape[-1])).reshape(\n",
    "        X_test.shape\n",
    "    )\n",
    "\n",
    "    return X_train_scaled, X_test_scaled\n",
    "\n",
    "\n",
    "X_train_preprocessed, X_test_preprocessed = preprocess_data(X_train, X_test)\n"
   ]
  },
  {
   "cell_type": "code",
   "execution_count": 4,
   "metadata": {
    "tags": []
   },
   "outputs": [
    {
     "name": "stdout",
     "output_type": "stream",
     "text": [
      "tensor([[[0.4088, 0.5215, 0.4893,  ..., 0.5859, 0.5853, 0.5853],\n",
      "         [0.3866, 0.5039, 0.4703,  ..., 0.6135, 0.6131, 0.6131],\n",
      "         [0.4075, 0.5205, 0.4882,  ..., 0.5844, 0.5838, 0.5838],\n",
      "         ...,\n",
      "         [0.3811, 0.4995, 0.4657,  ..., 0.6163, 0.6160, 0.6155],\n",
      "         [0.3876, 0.5046, 0.4711,  ..., 0.6134, 0.6131, 0.6129],\n",
      "         [0.3871, 0.5043, 0.4707,  ..., 0.6125, 0.6120, 0.6118]]]) tensor([[0.]])\n"
     ]
    },
    {
     "name": "stderr",
     "output_type": "stream",
     "text": [
      "/tmp/ipykernel_736/2556358870.py:7: UserWarning: To copy construct from a tensor, it is recommended to use sourceTensor.clone().detach() or sourceTensor.clone().detach().requires_grad_(True), rather than torch.tensor(sourceTensor).\n",
      "  y_train = torch.tensor(y_train[:5000], requires_grad=False)\n",
      "/tmp/ipykernel_736/2556358870.py:8: UserWarning: To copy construct from a tensor, it is recommended to use sourceTensor.clone().detach() or sourceTensor.clone().detach().requires_grad_(True), rather than torch.tensor(sourceTensor).\n",
      "  y_test = torch.tensor(y_test[:5000], requires_grad=False)\n"
     ]
    }
   ],
   "source": [
    "X_train = torch.tensor(\n",
    "    X_train_preprocessed[:, :, :5000], dtype=torch.float32, requires_grad=False\n",
    ")\n",
    "X_test = torch.tensor(\n",
    "    X_test_preprocessed[:, :, :5000], dtype=torch.float32, requires_grad=False\n",
    ")\n",
    "y_train = torch.tensor(y_train[:5000], requires_grad=False)\n",
    "y_test = torch.tensor(y_test[:5000], requires_grad=False)\n",
    "\n",
    "\n",
    "train_dataset = TensorDataset(X_train, y_train)\n",
    "test_dataset = TensorDataset(X_test, y_test)\n",
    "train_loader = DataLoader(train_dataset, batch_size=1, shuffle=True)\n",
    "test_loader = DataLoader(test_dataset, batch_size=1, shuffle=False)\n",
    "\n",
    "for inputs, targets in train_loader:\n",
    "    print(inputs, targets)\n",
    "    break"
   ]
  },
  {
   "cell_type": "markdown",
   "metadata": {},
   "source": [
    "CNN MODEL CLASS & Instance INIT.:"
   ]
  },
  {
   "cell_type": "code",
   "execution_count": null,
   "metadata": {
    "tags": []
   },
   "outputs": [
    {
     "name": "stdout",
     "output_type": "stream",
     "text": [
      "Epoch [1/5], Train Loss: 0.3692, Train Acc: 0.9090\n",
      "Epoch [1/5], Val Loss: 0.3074, Val Acc: 0.9080\n",
      "Confusion matrix:\n",
      "[[681   0]\n",
      " [ 69   0]]\n",
      "Epoch [2/5], Train Loss: 0.3266, Train Acc: 0.9093\n",
      "Epoch [2/5], Val Loss: 0.3086, Val Acc: 0.9080\n",
      "Confusion matrix:\n",
      "[[681   0]\n",
      " [ 69   0]]\n",
      "Epoch [3/5], Train Loss: 0.3236, Train Acc: 0.9093\n",
      "Epoch [3/5], Val Loss: 0.3463, Val Acc: 0.9080\n",
      "Confusion matrix:\n",
      "[[681   0]\n",
      " [ 69   0]]\n",
      "Epoch [4/5], Train Loss: 0.3218, Train Acc: 0.9093\n",
      "Epoch [4/5], Val Loss: 0.3152, Val Acc: 0.9080\n",
      "Confusion matrix:\n",
      "[[681   0]\n",
      " [ 69   0]]\n"
     ]
    }
   ],
   "source": [
    "import torch.optim as optim\n",
    "\n",
    "class CNNModel(nn.Module):\n",
    "    def __init__(self):\n",
    "        super(CNNModel, self).__init__()\n",
    "        self.conv1 = nn.Conv1d(12, 32, kernel_size=3)\n",
    "        self.relu = nn.ReLU()\n",
    "        self.maxpool = nn.MaxPool1d(kernel_size=2)\n",
    "        self.flatten = nn.Flatten()\n",
    "        self.fc1 = nn.Linear(32 * 2499, 50)\n",
    "        self.fc2 = nn.Linear(50, 50)\n",
    "        self.fc3 = nn.Linear(50, 50)\n",
    "        self.fc4 = nn.Linear(50, 1)\n",
    "        self.sigmoid = nn.Sigmoid()\n",
    "\n",
    "    def forward(self, x):\n",
    "        x = self.conv1(x)\n",
    "        x = self.relu(x)\n",
    "        x = self.maxpool(x)\n",
    "        x = self.flatten(x)\n",
    "        x = self.fc1(x)\n",
    "        x = self.relu(x)\n",
    "        x = self.fc2(x)\n",
    "        x = self.relu(x)\n",
    "        x = self.fc3(x)\n",
    "        x = self.relu(x)\n",
    "        x = self.fc4(x)\n",
    "        x = self.sigmoid(x)\n",
    "        return x\n",
    "\n",
    "# Create an instance of the model\n",
    "cnn_model = CNNModel()\n",
    "\n",
    "from sklearn.metrics import confusion_matrix\n",
    "\n",
    "def accuracy(outputs, targets):\n",
    "    predicted = (outputs > 0.5).float()\n",
    "    correct = (predicted == targets).float()\n",
    "    acc = correct.sum() / len(targets)\n",
    "    return acc.item()\n",
    "\n",
    "# Modify the target labels to binary values using a threshold\n",
    "threshold = 0.5\n",
    "y_train_binary = (y_train >= threshold).float()\n",
    "y_test_binary = (y_test >= threshold).float()\n",
    "\n",
    "# Define the binary cross-entropy loss\n",
    "criterion = nn.BCELoss()\n",
    "\n",
    "# Define the optimizer\n",
    "optimizer = optim.Adam(cnn_model.parameters(), lr=0.001)\n",
    "\n",
    "# Training loop\n",
    "num_epochs = 5\n",
    "train_loss_history = []\n",
    "val_loss_history = []\n",
    "train_acc_history = []\n",
    "val_acc_history = []\n",
    "\n",
    "for epoch in range(num_epochs):\n",
    "    # Training\n",
    "    cnn_model.train()\n",
    "    train_loss = 0\n",
    "    train_correct = 0\n",
    "    total = 0\n",
    "    \n",
    "    for inputs, targets in train_loader:\n",
    "        optimizer.zero_grad()\n",
    "        outputs = cnn_model(inputs)\n",
    "        loss = criterion(outputs.squeeze(), targets.squeeze())\n",
    "        loss.backward()\n",
    "        optimizer.step()\n",
    "        \n",
    "        # Compute training accuracy\n",
    "        predicted = (outputs >= threshold).float()\n",
    "        train_correct += (predicted.squeeze() == targets.squeeze()).sum().item()\n",
    "        total += targets.size(0)\n",
    "        \n",
    "        train_loss += loss.item()\n",
    "\n",
    "    train_acc = train_correct / total\n",
    "    train_loss_history.append(train_loss / len(train_loader))\n",
    "    train_acc_history.append(train_acc)\n",
    "    \n",
    "    # Validation\n",
    "    cnn_model.eval()\n",
    "    val_loss = 0\n",
    "    val_correct = 0\n",
    "    total = 0\n",
    "    \n",
    "    for inputs, targets in test_loader:\n",
    "        outputs = cnn_model(inputs)\n",
    "        loss = criterion(outputs.squeeze(), targets.squeeze())\n",
    "        \n",
    "        # Compute validation accuracy\n",
    "        predicted = (outputs >= threshold).float()\n",
    "        val_correct += (predicted.squeeze() == targets.squeeze()).sum().item()\n",
    "        total += targets.size(0)\n",
    "        \n",
    "        val_loss += loss.item()\n",
    "\n",
    "    val_acc = val_correct / total\n",
    "    val_loss_history.append(val_loss / len(test_loader))\n",
    "    val_acc_history.append(val_acc)\n",
    "    \n",
    "    print(f\"Epoch [{epoch+1}/{num_epochs}], Train Loss: {train_loss_history[-1]:.4f}, Train Acc: {train_acc:.4f}\")\n",
    "    print(f\"Epoch [{epoch+1}/{num_epochs}], Val Loss: {val_loss_history[-1]:.4f}, Val Acc: {val_acc:.4f}\")\n",
    "    print(\"Confusion matrix:\")\n",
    "    print(confusion_matrix(y_test_binary, (cnn_model(X_test) >= threshold).float()))\n"
   ]
  }
 ],
 "metadata": {
  "kernelspec": {
   "display_name": "Python 3 (ipykernel)",
   "language": "python",
   "name": "python3"
  },
  "language_info": {
   "codemirror_mode": {
    "name": "ipython",
    "version": 3
   },
   "file_extension": ".py",
   "mimetype": "text/x-python",
   "name": "python",
   "nbconvert_exporter": "python",
   "pygments_lexer": "ipython3",
   "version": "3.10.9"
  }
 },
 "nbformat": 4,
 "nbformat_minor": 4
}
