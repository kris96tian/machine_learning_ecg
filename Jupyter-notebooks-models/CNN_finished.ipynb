{
 "cells": [
  {
   "cell_type": "markdown",
   "metadata": {},
   "source": [
    "IMPORTS:"
   ]
  },
  {
   "cell_type": "code",
   "execution_count": 1,
   "metadata": {
    "tags": []
   },
   "outputs": [],
   "source": [
    "import numpy as np\n",
    "import os\n",
    "import torch\n",
    "import torch.nn as nn\n",
    "import torch.optim as optim\n",
    "from sklearn.model_selection import train_test_split\n",
    "from torch.utils.data import Dataset, DataLoader, TensorDataset\n",
    "import matplotlib.pyplot as plt\n",
    "from scipy.signal import detrend\n",
    "import pandas as pd\n",
    "from torch.utils.data import random_split\n",
    "from sklearn.preprocessing import MinMaxScaler"
   ]
  },
  {
   "cell_type": "markdown",
   "metadata": {},
   "source": [
    "MY DATASET.CLASS:"
   ]
  },
  {
   "cell_type": "code",
   "execution_count": 2,
   "metadata": {
    "tags": []
   },
   "outputs": [],
   "source": [
    "class ECGData(Dataset):\n",
    "    def __init__(self):\n",
    "        rwma_labels = np.loadtxt(\n",
    "            \"/home/ngsci/datasets/silent-cchs-ecg/csv/rwma-outcomes.csv\",\n",
    "            delimiter=\",\",\n",
    "            dtype=np.float32,\n",
    "            skiprows=1,\n",
    "        )\n",
    "        npy_filepath = \"/home/ngsci/datasets/silent-cchs-ecg/npy\"\n",
    "        dir_list = os.listdir(npy_filepath)\n",
    "        npy_arrays = []\n",
    "        for each in dir_list:\n",
    "            file = f\"{npy_filepath}/{each}\"\n",
    "            npy_arrays.append(np.load(file))\n",
    "        stacked = np.stack(npy_arrays, axis=1)\n",
    "        self.X = torch.from_numpy(stacked)\n",
    "        self.y = torch.from_numpy(rwma_labels[:, 1:])\n",
    "\n",
    "    def __len__(self):\n",
    "        return self.X.shape[0]\n",
    "\n",
    "    def __getitem__(self, idx):\n",
    "        return (self.X[idx, :, :, :], self.y[idx])\n"
   ]
  },
  {
   "cell_type": "markdown",
   "metadata": {},
   "source": [
    "DATA SPLIT / PREPROCESS / PREPARE / INITIATE..."
   ]
  },
  {
   "cell_type": "code",
   "execution_count": 3,
   "metadata": {
    "tags": []
   },
   "outputs": [],
   "source": [
    "\n",
    "data = ECGData() #instanz of above Custom Class\n",
    "\n",
    "###  DATA SPLIT FUNCKTION and INIT.\n",
    "### \n",
    "\n",
    "def split_data(data):\n",
    "    indexRange = torch.arange(0, len(data))\n",
    "    train_size = int(0.8 * len(data))\n",
    "    train_split, test_split = random_split(\n",
    "        indexRange, [train_size, len(data) - train_size]\n",
    "    )\n",
    "    X_train = data[train_split][0].squeeze(dim=2)\n",
    "    X_test = data[test_split][0].squeeze(dim=2)\n",
    "    y_train = data[train_split][1]\n",
    "    y_test = data[test_split][1]\n",
    "    return X_train, X_test, y_train, y_test\n",
    "\n",
    "\n",
    "X_train, X_test, y_train, y_test = split_data(data)\n",
    "\n",
    "\n",
    "## Data NORMALIZATION\n",
    "##\n",
    "def preprocess_data(X_train, X_test):\n",
    "    # Min-max scaling\n",
    "    scaler = MinMaxScaler()\n",
    "    X_train_scaled = scaler.fit_transform(\n",
    "        X_train.reshape(-1, X_train.shape[-1])\n",
    "    ).reshape(X_train.shape)\n",
    "    X_test_scaled = scaler.transform(X_test.reshape(-1, X_test.shape[-1])).reshape(\n",
    "        X_test.shape\n",
    "    )\n",
    "\n",
    "    return X_train_scaled, X_test_scaled\n",
    "\n",
    "\n",
    "X_train_preprocessed, X_test_preprocessed = preprocess_data(X_train, X_test)\n"
   ]
  },
  {
   "cell_type": "code",
   "execution_count": 4,
   "metadata": {
    "tags": []
   },
   "outputs": [
    {
     "name": "stdout",
     "output_type": "stream",
     "text": [
      "tensor([[[0.4062, 0.5201, 0.4879,  ..., 0.6236, 0.6238, 0.6235],\n",
      "         [0.3829, 0.5008, 0.4670,  ..., 0.6168, 0.6167, 0.6167],\n",
      "         [0.4070, 0.5204, 0.4880,  ..., 0.6204, 0.6207, 0.6209],\n",
      "         ...,\n",
      "         [0.3845, 0.5014, 0.4675,  ..., 0.6059, 0.6056, 0.6060],\n",
      "         [0.3766, 0.4958, 0.4617,  ..., 0.6124, 0.6119, 0.6121],\n",
      "         [0.3779, 0.4967, 0.4628,  ..., 0.6117, 0.6116, 0.6117]]]) tensor([[0.]])\n"
     ]
    },
    {
     "name": "stderr",
     "output_type": "stream",
     "text": [
      "/tmp/ipykernel_212/2556358870.py:7: UserWarning: To copy construct from a tensor, it is recommended to use sourceTensor.clone().detach() or sourceTensor.clone().detach().requires_grad_(True), rather than torch.tensor(sourceTensor).\n",
      "  y_train = torch.tensor(y_train[:5000], requires_grad=False)\n",
      "/tmp/ipykernel_212/2556358870.py:8: UserWarning: To copy construct from a tensor, it is recommended to use sourceTensor.clone().detach() or sourceTensor.clone().detach().requires_grad_(True), rather than torch.tensor(sourceTensor).\n",
      "  y_test = torch.tensor(y_test[:5000], requires_grad=False)\n"
     ]
    }
   ],
   "source": [
    "X_train = torch.tensor(\n",
    "    X_train_preprocessed[:, :, :5000], dtype=torch.float32, requires_grad=False\n",
    ")\n",
    "X_test = torch.tensor(\n",
    "    X_test_preprocessed[:, :, :5000], dtype=torch.float32, requires_grad=False\n",
    ")\n",
    "y_train = torch.tensor(y_train[:5000], requires_grad=False)\n",
    "y_test = torch.tensor(y_test[:5000], requires_grad=False)\n",
    "\n",
    "\n",
    "train_dataset = TensorDataset(X_train, y_train)\n",
    "test_dataset = TensorDataset(X_test, y_test)\n",
    "train_loader = DataLoader(train_dataset, batch_size=1, shuffle=True)\n",
    "test_loader = DataLoader(test_dataset, batch_size=1, shuffle=False)\n",
    "\n",
    "for inputs, targets in train_loader:\n",
    "    print(inputs, targets)\n",
    "    break"
   ]
  },
  {
   "cell_type": "markdown",
   "metadata": {},
   "source": [
    "CNN MODEL CLASS & Instance INIT.:"
   ]
  },
  {
   "cell_type": "code",
   "execution_count": 5,
   "metadata": {
    "tags": []
   },
   "outputs": [],
   "source": [
    "class CNNModel(nn.Module):\n",
    "    def __init__(self):\n",
    "        super(CNNModel, self).__init__()\n",
    "        self.conv1 = nn.Conv1d(12, 32, kernel_size=3)\n",
    "        self.relu = nn.ReLU()\n",
    "        self.maxpool = nn.MaxPool1d(kernel_size=2)\n",
    "        self.flatten = nn.Flatten()\n",
    "        self.fc1 = nn.Linear(32 * 2499, 50)\n",
    "        self.fc2 = nn.Linear(50, 50)\n",
    "        self.fc3 = nn.Linear(50, 50)\n",
    "        self.fc4 = nn.Linear(50, 1)\n",
    "        self.sigmoid = nn.Sigmoid()\n",
    "\n",
    "    def forward(self, x):\n",
    "        x = self.conv1(x)\n",
    "        x = self.relu(x)\n",
    "        x = self.maxpool(x)\n",
    "        x = self.flatten(x)\n",
    "        x = self.fc1(x)\n",
    "        x = self.relu(x)\n",
    "        x = self.fc2(x)\n",
    "        x = self.relu(x)\n",
    "        x = self.fc3(x)\n",
    "        x = self.relu(x)\n",
    "        x = self.fc4(x)\n",
    "        x = self.sigmoid(x)\n",
    "        return x\n",
    "\n",
    "\n",
    "# Create an instance of the model\n",
    "cnn_model = CNNModel()"
   ]
  },
  {
   "cell_type": "markdown",
   "metadata": {},
   "source": [
    "Hyperparameters & Train-loop:\n"
   ]
  },
  {
   "cell_type": "code",
   "execution_count": null,
   "metadata": {
    "tags": []
   },
   "outputs": [
    {
     "name": "stdout",
     "output_type": "stream",
     "text": [
      "Epoch [1/10], Loss: 0.0647, Val Loss: 0.3118\n",
      "Epoch [2/10], Loss: 0.1465, Val Loss: 0.3140\n",
      "Epoch [3/10], Loss: 0.0925, Val Loss: 0.3049\n",
      "Epoch [4/10], Loss: 0.0730, Val Loss: 0.3075\n",
      "Epoch [5/10], Loss: 0.1290, Val Loss: 0.3084\n",
      "Epoch [6/10], Loss: 0.1045, Val Loss: 0.3039\n",
      "Epoch [7/10], Loss: 0.0702, Val Loss: 0.3087\n",
      "Epoch [8/10], Loss: 0.1095, Val Loss: 0.3050\n",
      "Epoch [9/10], Loss: 0.1372, Val Loss: 0.3108\n"
     ]
    }
   ],
   "source": [
    "# Define loss function and optimizer\n",
    "criterion = nn.BCELoss()\n",
    "optimizer = torch.optim.Adam(cnn_model.parameters(), lr=0.001)\n",
    "\n",
    "# Training loop\n",
    "num_epochs = 10\n",
    "train_loss_history = []\n",
    "val_loss_history = []\n",
    "for epoch in range(num_epochs):\n",
    "    for inputs, targets in train_loader:\n",
    "        optimizer.zero_grad()\n",
    "        outputs = cnn_model(inputs)\n",
    "        loss = criterion(outputs, targets)\n",
    "        loss.backward()\n",
    "        optimizer.step()\n",
    "        train_loss_history.append(loss.item())\n",
    "\n",
    "    # Calculate loss on the validation set\n",
    "    with torch.no_grad():\n",
    "        val_loss = 0\n",
    "        total = 0\n",
    "        for inputs, targets in test_loader:\n",
    "            outputs = cnn_model(inputs)\n",
    "            val_loss += criterion(outputs, targets).item()\n",
    "            total += 1\n",
    "        val_loss /= total\n",
    "        val_loss_history.append(val_loss)\n",
    "\n",
    "    print(f\"Epoch [{epoch+1}/{num_epochs}], Loss: {loss.item():.4f}, Val Loss: {val_loss:.4f}\")"
   ]
  },
  {
   "cell_type": "code",
   "execution_count": 7,
   "metadata": {
    "tags": []
   },
   "outputs": [
    {
     "data": {
      "image/png": "[encoded data removed]",
      "text/plain": [
       "<Figure size 640x480 with 1 Axes>"
      ]
     },
     "metadata": {},
     "output_type": "display_data"
    }
   ],
   "source": [
    "###\n",
    "### Some Plotting\n",
    "\n",
    "# Plot the loss curve\n",
    "plt.plot(train_loss_history, label=\"train_loss\")\n",
    "plt.plot(val_loss_history, label=\"val_loss\")\n",
    "plt.xlabel(\"Epoch\")\n",
    "plt.ylabel(\"Loss\")\n",
    "plt.legend()\n",
    "plt.show()\n"
   ]
  },
  {
   "cell_type": "code",
   "execution_count": null,
   "metadata": {},
   "outputs": [],
   "source": []
  }
 ],
 "metadata": {
  "kernelspec": {
   "display_name": "Python 3 (ipykernel)",
   "language": "python",
   "name": "python3"
  },
  "language_info": {
   "codemirror_mode": {
    "name": "ipython",
    "version": 3
   },
   "file_extension": ".py",
   "mimetype": "text/x-python",
   "name": "python",
   "nbconvert_exporter": "python",
   "pygments_lexer": "ipython3",
   "version": "3.10.9"
  }
 },
 "nbformat": 4,
 "nbformat_minor": 4
}
